{
 "cells": [
  {
   "cell_type": "markdown",
   "id": "3aa80156",
   "metadata": {},
   "source": [
    "### Importing relevant packages"
   ]
  },
  {
   "cell_type": "code",
   "execution_count": null,
   "id": "5a4cbf8d",
   "metadata": {},
   "outputs": [],
   "source": [
    "import numpy as np\n",
    "import tensorflow as tf\n",
    "import tensorflow_datasets as tfds"
   ]
  },
  {
   "cell_type": "markdown",
   "id": "edd7ae75",
   "metadata": {},
   "source": [
    "## Data"
   ]
  },
  {
   "cell_type": "code",
   "execution_count": null,
   "id": "e925af37",
   "metadata": {},
   "outputs": [],
   "source": [
    "mnist_dataset, mnist_info = tfds.load(name='mnist', with_info=True, as_supervised=True)\n",
    "\n",
    "#Extracting training data and test data\n",
    "mnist_train, mnist_test = mnist_dataset[train], mnist_dataset[test]\n",
    "\n",
    "#TFDataSets doesn't include validation data, so it is taken from the train dataset since it's the biggest\n",
    "\n",
    "#Here's how it takes 10% of the training dataset\n",
    "num_validation_samples = 0.1 * mnist_info.splits['train'].num_examples\n",
    "\n",
    "#This 10% could not be a integer, but that wouldn´t make sense, so the variable is converted/casted into an int64 type variable\n",
    "num_validation_samples = tf.cast(num_validation_samples, tf.int64)\n",
    "\n",
    "#Storing the number of test\n",
    "num_test_samples = mnist_info.splits['test'].num_examples\n",
    "num_test_samples = tf.cast(num_test_samples, tf.int64)"
   ]
  },
  {
   "cell_type": "markdown",
   "id": "fed76a01",
   "metadata": {},
   "source": [
    "### Creating a function to scale the inputs"
   ]
  },
  {
   "cell_type": "code",
   "execution_count": 1,
   "id": "947ae4dc",
   "metadata": {},
   "outputs": [
    {
     "ename": "NameError",
     "evalue": "name 'mnist_train' is not defined",
     "output_type": "error",
     "traceback": [
      "\u001b[1;31m---------------------------------------------------------------------------\u001b[0m",
      "\u001b[1;31mNameError\u001b[0m                                 Traceback (most recent call last)",
      "Input \u001b[1;32mIn [1]\u001b[0m, in \u001b[0;36m<cell line: 7>\u001b[1;34m()\u001b[0m\n\u001b[0;32m      4\u001b[0m     image\u001b[38;5;241m/\u001b[39m\u001b[38;5;241m=\u001b[39m\u001b[38;5;241m255.\u001b[39m\n\u001b[0;32m      5\u001b[0m     \u001b[38;5;28;01mreturn\u001b[39;00m image, label\n\u001b[1;32m----> 7\u001b[0m scaled_train_and_validation_data \u001b[38;5;241m=\u001b[39m \u001b[43mmnist_train\u001b[49m\u001b[38;5;241m.\u001b[39mmap(scale)\n\u001b[0;32m      8\u001b[0m test_data \u001b[38;5;241m=\u001b[39m mnist_test\u001b[38;5;241m.\u001b[39mmap(scale)\n",
      "\u001b[1;31mNameError\u001b[0m: name 'mnist_train' is not defined"
     ]
    }
   ],
   "source": [
    "def scale(image, label):\n",
    "    image = tf.cast(image, tf.float32)\n",
    "    #Since the pictures are in grayscale, they can only have 255 values, so dividing by thatr value, all of them will be between 0 and 1\n",
    "    image/=255.\n",
    "    return image, label\n",
    "\n",
    "scaled_train_and_validation_data = mnist_train.map(scale)\n",
    "test_data = mnist_test.map(scale)"
   ]
  },
  {
   "cell_type": "markdown",
   "id": "c00a17aa",
   "metadata": {},
   "source": [
    "### Shuffling data"
   ]
  },
  {
   "cell_type": "code",
   "execution_count": null,
   "id": "5a8f1dc1",
   "metadata": {},
   "outputs": [],
   "source": [
    "# A buffer is normally used with enormous datasets because the computer can´t handle  all the data at the same time\n",
    "\n",
    "BUFFER_SIZE = 10000\n",
    "\n",
    "shuffled_train_and_validation_data = scaled_train_and_validation_data.shuffle(BUFFER_SIZE)\n",
    "\n",
    "\n",
    "#Creating a validation dataset from the shuffled data, with num_validation_samples data\n",
    "validation_data = shuffled_train_and_validation_data.take(num_validation_samples)\n",
    "\n",
    "#Creating the train data with all the initial training data except for the validation data taken from it\n",
    "train_data = shuffled_train_and_validation_data.skip(num_validation_samples)\n",
    "\n",
    "# 1 < Batch_Size < #Samples\n",
    "BATCH_SIZE = 100\n",
    "\n",
    "train_data = train_data.batch(BATCH_SIZE)\n",
    "\n",
    "#Sinze validation data doesn´t use backpropagation, it's not required to batch it"
   ]
  }
 ],
 "metadata": {
  "kernelspec": {
   "display_name": "Python 3 (ipykernel)",
   "language": "python",
   "name": "python3"
  },
  "language_info": {
   "codemirror_mode": {
    "name": "ipython",
    "version": 3
   },
   "file_extension": ".py",
   "mimetype": "text/x-python",
   "name": "python",
   "nbconvert_exporter": "python",
   "pygments_lexer": "ipython3",
   "version": "3.8.13"
  }
 },
 "nbformat": 4,
 "nbformat_minor": 5
}
